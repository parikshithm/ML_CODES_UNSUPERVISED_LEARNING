{
 "cells": [
  {
   "cell_type": "markdown",
   "id": "bd5db793-fb05-454f-82ca-2382786b2cb1",
   "metadata": {},
   "source": [
    "### Business Decision \n",
    "Target Subsets of customers for sending deal information"
   ]
  },
  {
   "cell_type": "code",
   "execution_count": 3,
   "id": "8e16c881-b067-4c18-86b5-cc7a17f3c1a1",
   "metadata": {},
   "outputs": [],
   "source": [
    "import pandas as pd\n",
    "import matplotlib\n",
    "import sklearn"
   ]
  },
  {
   "cell_type": "code",
   "execution_count": 4,
   "id": "f271f2a9-e769-4679-a27f-03dcd1bad452",
   "metadata": {},
   "outputs": [],
   "source": [
    "raw_df = pd.read_csv('chateau.csv')"
   ]
  },
  {
   "cell_type": "code",
   "execution_count": 5,
   "id": "6e7c7e85-2970-40f4-a8e8-451bd46ed2e4",
   "metadata": {},
   "outputs": [
    {
     "data": {
      "text/html": [
       "<div>\n",
       "<style scoped>\n",
       "    .dataframe tbody tr th:only-of-type {\n",
       "        vertical-align: middle;\n",
       "    }\n",
       "\n",
       "    .dataframe tbody tr th {\n",
       "        vertical-align: top;\n",
       "    }\n",
       "\n",
       "    .dataframe thead th {\n",
       "        text-align: right;\n",
       "    }\n",
       "</style>\n",
       "<table border=\"1\" class=\"dataframe\">\n",
       "  <thead>\n",
       "    <tr style=\"text-align: right;\">\n",
       "      <th></th>\n",
       "      <th>CustomerNo</th>\n",
       "      <th>customer</th>\n",
       "      <th>PinotNoir</th>\n",
       "      <th>Champagne</th>\n",
       "    </tr>\n",
       "  </thead>\n",
       "  <tbody>\n",
       "    <tr>\n",
       "      <th>0</th>\n",
       "      <td>1</td>\n",
       "      <td>Ebeling</td>\n",
       "      <td>7</td>\n",
       "      <td>34</td>\n",
       "    </tr>\n",
       "    <tr>\n",
       "      <th>1</th>\n",
       "      <td>2</td>\n",
       "      <td>England</td>\n",
       "      <td>8</td>\n",
       "      <td>34</td>\n",
       "    </tr>\n",
       "    <tr>\n",
       "      <th>2</th>\n",
       "      <td>3</td>\n",
       "      <td>Demburg</td>\n",
       "      <td>5</td>\n",
       "      <td>33</td>\n",
       "    </tr>\n",
       "    <tr>\n",
       "      <th>3</th>\n",
       "      <td>4</td>\n",
       "      <td>Eyberg</td>\n",
       "      <td>12</td>\n",
       "      <td>34</td>\n",
       "    </tr>\n",
       "    <tr>\n",
       "      <th>4</th>\n",
       "      <td>5</td>\n",
       "      <td>Zabar</td>\n",
       "      <td>9</td>\n",
       "      <td>30</td>\n",
       "    </tr>\n",
       "  </tbody>\n",
       "</table>\n",
       "</div>"
      ],
      "text/plain": [
       "   CustomerNo customer  PinotNoir  Champagne\n",
       "0           1  Ebeling          7         34\n",
       "1           2  England          8         34\n",
       "2           3  Demburg          5         33\n",
       "3           4   Eyberg         12         34\n",
       "4           5    Zabar          9         30"
      ]
     },
     "execution_count": 5,
     "metadata": {},
     "output_type": "execute_result"
    }
   ],
   "source": [
    "raw_df.head()"
   ]
  },
  {
   "cell_type": "code",
   "execution_count": 6,
   "id": "c65f09ef-73c4-4f0f-b911-51964ec80801",
   "metadata": {},
   "outputs": [
    {
     "name": "stdout",
     "output_type": "stream",
     "text": [
      "<class 'pandas.core.frame.DataFrame'>\n",
      "RangeIndex: 63 entries, 0 to 62\n",
      "Data columns (total 4 columns):\n",
      " #   Column      Non-Null Count  Dtype \n",
      "---  ------      --------------  ----- \n",
      " 0   CustomerNo  63 non-null     int64 \n",
      " 1   customer    63 non-null     object\n",
      " 2   PinotNoir   63 non-null     int64 \n",
      " 3   Champagne   63 non-null     int64 \n",
      "dtypes: int64(3), object(1)\n",
      "memory usage: 2.1+ KB\n"
     ]
    }
   ],
   "source": [
    "raw_df.info()"
   ]
  },
  {
   "cell_type": "code",
   "execution_count": 7,
   "id": "bb8e0e83-b14c-433a-bef1-fe3cdd6f9c19",
   "metadata": {},
   "outputs": [
    {
     "data": {
      "text/html": [
       "<div>\n",
       "<style scoped>\n",
       "    .dataframe tbody tr th:only-of-type {\n",
       "        vertical-align: middle;\n",
       "    }\n",
       "\n",
       "    .dataframe tbody tr th {\n",
       "        vertical-align: top;\n",
       "    }\n",
       "\n",
       "    .dataframe thead th {\n",
       "        text-align: right;\n",
       "    }\n",
       "</style>\n",
       "<table border=\"1\" class=\"dataframe\">\n",
       "  <thead>\n",
       "    <tr style=\"text-align: right;\">\n",
       "      <th></th>\n",
       "      <th>CustomerNo</th>\n",
       "      <th>PinotNoir</th>\n",
       "      <th>Champagne</th>\n",
       "    </tr>\n",
       "  </thead>\n",
       "  <tbody>\n",
       "    <tr>\n",
       "      <th>count</th>\n",
       "      <td>63.000000</td>\n",
       "      <td>63.000000</td>\n",
       "      <td>63.000000</td>\n",
       "    </tr>\n",
       "    <tr>\n",
       "      <th>mean</th>\n",
       "      <td>32.000000</td>\n",
       "      <td>12.730159</td>\n",
       "      <td>16.380952</td>\n",
       "    </tr>\n",
       "    <tr>\n",
       "      <th>std</th>\n",
       "      <td>18.330303</td>\n",
       "      <td>8.729273</td>\n",
       "      <td>12.261175</td>\n",
       "    </tr>\n",
       "    <tr>\n",
       "      <th>min</th>\n",
       "      <td>1.000000</td>\n",
       "      <td>0.000000</td>\n",
       "      <td>0.000000</td>\n",
       "    </tr>\n",
       "    <tr>\n",
       "      <th>25%</th>\n",
       "      <td>16.500000</td>\n",
       "      <td>5.000000</td>\n",
       "      <td>6.000000</td>\n",
       "    </tr>\n",
       "    <tr>\n",
       "      <th>50%</th>\n",
       "      <td>32.000000</td>\n",
       "      <td>12.000000</td>\n",
       "      <td>13.000000</td>\n",
       "    </tr>\n",
       "    <tr>\n",
       "      <th>75%</th>\n",
       "      <td>47.500000</td>\n",
       "      <td>20.000000</td>\n",
       "      <td>28.500000</td>\n",
       "    </tr>\n",
       "    <tr>\n",
       "      <th>max</th>\n",
       "      <td>63.000000</td>\n",
       "      <td>36.000000</td>\n",
       "      <td>38.000000</td>\n",
       "    </tr>\n",
       "  </tbody>\n",
       "</table>\n",
       "</div>"
      ],
      "text/plain": [
       "       CustomerNo  PinotNoir  Champagne\n",
       "count   63.000000  63.000000  63.000000\n",
       "mean    32.000000  12.730159  16.380952\n",
       "std     18.330303   8.729273  12.261175\n",
       "min      1.000000   0.000000   0.000000\n",
       "25%     16.500000   5.000000   6.000000\n",
       "50%     32.000000  12.000000  13.000000\n",
       "75%     47.500000  20.000000  28.500000\n",
       "max     63.000000  36.000000  38.000000"
      ]
     },
     "execution_count": 7,
     "metadata": {},
     "output_type": "execute_result"
    }
   ],
   "source": [
    "raw_df.describe()"
   ]
  },
  {
   "cell_type": "code",
   "execution_count": 21,
   "id": "8a7040af-010e-40e8-bb8a-2eab60047b3a",
   "metadata": {},
   "outputs": [],
   "source": [
    "selected_columns_df = raw_df[['PinotNoir','Champagne']]"
   ]
  },
  {
   "cell_type": "code",
   "execution_count": 22,
   "id": "5203cd44-5bfa-4d7d-a1de-360ad697000a",
   "metadata": {},
   "outputs": [
    {
     "data": {
      "text/html": [
       "<div>\n",
       "<style scoped>\n",
       "    .dataframe tbody tr th:only-of-type {\n",
       "        vertical-align: middle;\n",
       "    }\n",
       "\n",
       "    .dataframe tbody tr th {\n",
       "        vertical-align: top;\n",
       "    }\n",
       "\n",
       "    .dataframe thead th {\n",
       "        text-align: right;\n",
       "    }\n",
       "</style>\n",
       "<table border=\"1\" class=\"dataframe\">\n",
       "  <thead>\n",
       "    <tr style=\"text-align: right;\">\n",
       "      <th></th>\n",
       "      <th>PinotNoir</th>\n",
       "      <th>Champagne</th>\n",
       "    </tr>\n",
       "  </thead>\n",
       "  <tbody>\n",
       "    <tr>\n",
       "      <th>0</th>\n",
       "      <td>7</td>\n",
       "      <td>34</td>\n",
       "    </tr>\n",
       "    <tr>\n",
       "      <th>1</th>\n",
       "      <td>8</td>\n",
       "      <td>34</td>\n",
       "    </tr>\n",
       "    <tr>\n",
       "      <th>2</th>\n",
       "      <td>5</td>\n",
       "      <td>33</td>\n",
       "    </tr>\n",
       "    <tr>\n",
       "      <th>3</th>\n",
       "      <td>12</td>\n",
       "      <td>34</td>\n",
       "    </tr>\n",
       "    <tr>\n",
       "      <th>4</th>\n",
       "      <td>9</td>\n",
       "      <td>30</td>\n",
       "    </tr>\n",
       "    <tr>\n",
       "      <th>...</th>\n",
       "      <td>...</td>\n",
       "      <td>...</td>\n",
       "    </tr>\n",
       "    <tr>\n",
       "      <th>58</th>\n",
       "      <td>11</td>\n",
       "      <td>10</td>\n",
       "    </tr>\n",
       "    <tr>\n",
       "      <th>59</th>\n",
       "      <td>13</td>\n",
       "      <td>3</td>\n",
       "    </tr>\n",
       "    <tr>\n",
       "      <th>60</th>\n",
       "      <td>13</td>\n",
       "      <td>3</td>\n",
       "    </tr>\n",
       "    <tr>\n",
       "      <th>61</th>\n",
       "      <td>12</td>\n",
       "      <td>16</td>\n",
       "    </tr>\n",
       "    <tr>\n",
       "      <th>62</th>\n",
       "      <td>13</td>\n",
       "      <td>16</td>\n",
       "    </tr>\n",
       "  </tbody>\n",
       "</table>\n",
       "<p>63 rows × 2 columns</p>\n",
       "</div>"
      ],
      "text/plain": [
       "    PinotNoir  Champagne\n",
       "0           7         34\n",
       "1           8         34\n",
       "2           5         33\n",
       "3          12         34\n",
       "4           9         30\n",
       "..        ...        ...\n",
       "58         11         10\n",
       "59         13          3\n",
       "60         13          3\n",
       "61         12         16\n",
       "62         13         16\n",
       "\n",
       "[63 rows x 2 columns]"
      ]
     },
     "execution_count": 22,
     "metadata": {},
     "output_type": "execute_result"
    }
   ],
   "source": [
    "selected_columns_df"
   ]
  },
  {
   "cell_type": "code",
   "execution_count": 10,
   "id": "46f893f9-fc9f-42cd-b3d6-533d75fbcc3b",
   "metadata": {},
   "outputs": [],
   "source": [
    "import warnings\n",
    "warnings.filterwarnings('ignore')"
   ]
  },
  {
   "cell_type": "code",
   "execution_count": 23,
   "id": "acf3232c-9e40-463f-8fda-9af0f357d5aa",
   "metadata": {},
   "outputs": [
    {
     "data": {
      "image/png": "[encoded data removed]",
      "text/plain": [
       "<Figure size 640x480 with 1 Axes>"
      ]
     },
     "metadata": {},
     "output_type": "display_data"
    }
   ],
   "source": [
    "#Identify the number of cluster\n",
    "from sklearn.cluster import KMeans\n",
    "#number of clusters we want\n",
    "k_values = range(2,11)\n",
    "\n",
    "#Fit KMeans for each k and calculate the inertia\n",
    "inertia_values = []\n",
    "for k in k_values:\n",
    "    kmeans = KMeans(n_clusters = k, random_state = 42)\n",
    "    kmeans.fit(selected_columns_df)\n",
    "    inertia_values.append(kmeans.inertia_)\n",
    "\n",
    "import matplotlib.pyplot as plt\n",
    "#Plot the elbow plot\n",
    "plt.plot(k_values, inertia_values, marker = 'o')\n",
    "plt.title('Elbow Plot')\n",
    "plt.xlabel('Number of Clusters (k)')\n",
    "plt.ylabel('Inertia')\n",
    "plt.show()\n",
    "    "
   ]
  },
  {
   "cell_type": "code",
   "execution_count": null,
   "id": "f00118d1-300c-4792-b75d-90e4048aec59",
   "metadata": {},
   "outputs": [],
   "source": []
  },
  {
   "cell_type": "code",
   "execution_count": 24,
   "id": "b7806ed3-0866-4cf3-ae4f-13f16da064bb",
   "metadata": {},
   "outputs": [
    {
     "name": "stdout",
     "output_type": "stream",
     "text": [
      "For k = 2 , the silhouette score is: 0.5177896553591894\n",
      "For k = 3 , the silhouette score is: 0.4991281085927395\n",
      "For k = 4 , the silhouette score is: 0.45850876420394737\n",
      "For k = 5 , the silhouette score is: 0.4488199576445271\n",
      "For k = 6 , the silhouette score is: 0.4441730762754557\n",
      "For k = 7 , the silhouette score is: 0.4533899712110492\n",
      "For k = 8 , the silhouette score is: 0.46664421856051147\n",
      "For k = 9 , the silhouette score is: 0.48080007507862876\n",
      "The optimal number of clusters (k) is: 2\n"
     ]
    }
   ],
   "source": [
    "# ========================================\n",
    "# Identify the value of K using Silhouette\n",
    "# ========================================\n",
    "from sklearn.metrics import silhouette_score\n",
    "silhouette_scores = []\n",
    "k_values = range(2,10)\n",
    "for k in k_values:\n",
    "    kmeans = KMeans(n_clusters = k, random_state = 42)\n",
    "    kmeans.fit(selected_columns_df)\n",
    "    labels = kmeans.labels_\n",
    "    silhouette_avg  = silhouette_score(selected_column_df,labels)\n",
    "    silhouette_scores.append(silhouette_avg)\n",
    "    print(\"For k =\", k , \", the silhouette score is:\",silhouette_avg)\n",
    "    optimal_k = k_values[silhouette_scores.index(max(silhouette_scores))]\n",
    "print(\"The optimal number of clusters (k) is:\", optimal_k)\n"
   ]
  },
  {
   "cell_type": "code",
   "execution_count": null,
   "id": "439749f4-4dc1-4c78-8022-481cac1f6101",
   "metadata": {},
   "outputs": [],
   "source": []
  },
  {
   "cell_type": "code",
   "execution_count": 35,
   "id": "97d7356f-c80b-4885-9630-2ff3ab547d1c",
   "metadata": {},
   "outputs": [
    {
     "name": "stdout",
     "output_type": "stream",
     "text": [
      "Model KMeans(n_clusters=2, random_state=10)\n"
     ]
    }
   ],
   "source": [
    "# ======================================\n",
    "# Create Clusters using the k-identified\n",
    "# ======================================\n",
    "k = 2\n",
    "from sklearn.cluster import KMeans\n",
    "cluster_model = KMeans(n_clusters = k, random_state = 10).fit(selected_columns_df)\n",
    "print(\"Model\", cluster_model)"
   ]
  },
  {
   "cell_type": "code",
   "execution_count": 36,
   "id": "c1bae505-da40-41dd-8da0-7dfef6a4044e",
   "metadata": {},
   "outputs": [
    {
     "name": "stdout",
     "output_type": "stream",
     "text": [
      "Model [0 0 0 0 0 0 0 0 0 0 0 0 0 0 0 0 0 0 0 0 0 1 1 1 1 1 1 1 1 1 1 1 1 1 1 1 1\n",
      " 1 1 1 1 1 1 1 1 1 1 1 1 1 1 1 1 1 1 1 1 1 1 1 1 1 1]\n"
     ]
    }
   ],
   "source": [
    "print(\"Model\",cluster_model.labels_)"
   ]
  },
  {
   "cell_type": "code",
   "execution_count": 37,
   "id": "11521ed1-3c14-4198-bb18-5f80c9f9fde9",
   "metadata": {},
   "outputs": [],
   "source": [
    "# ========================================\n",
    "# Add cluster details to the original data\n",
    "# ========================================\n",
    "raw_df['cluster_id'] = cluster_model.labels_"
   ]
  },
  {
   "cell_type": "code",
   "execution_count": 38,
   "id": "c5cd1c11-9362-4fd7-8b09-ad4d85f285ed",
   "metadata": {},
   "outputs": [
    {
     "data": {
      "text/html": [
       "<div>\n",
       "<style scoped>\n",
       "    .dataframe tbody tr th:only-of-type {\n",
       "        vertical-align: middle;\n",
       "    }\n",
       "\n",
       "    .dataframe tbody tr th {\n",
       "        vertical-align: top;\n",
       "    }\n",
       "\n",
       "    .dataframe thead th {\n",
       "        text-align: right;\n",
       "    }\n",
       "</style>\n",
       "<table border=\"1\" class=\"dataframe\">\n",
       "  <thead>\n",
       "    <tr style=\"text-align: right;\">\n",
       "      <th></th>\n",
       "      <th>CustomerNo</th>\n",
       "      <th>customer</th>\n",
       "      <th>PinotNoir</th>\n",
       "      <th>Champagne</th>\n",
       "      <th>cluster_id</th>\n",
       "    </tr>\n",
       "  </thead>\n",
       "  <tbody>\n",
       "    <tr>\n",
       "      <th>0</th>\n",
       "      <td>1</td>\n",
       "      <td>Ebeling</td>\n",
       "      <td>7</td>\n",
       "      <td>34</td>\n",
       "      <td>0</td>\n",
       "    </tr>\n",
       "    <tr>\n",
       "      <th>1</th>\n",
       "      <td>2</td>\n",
       "      <td>England</td>\n",
       "      <td>8</td>\n",
       "      <td>34</td>\n",
       "      <td>0</td>\n",
       "    </tr>\n",
       "    <tr>\n",
       "      <th>2</th>\n",
       "      <td>3</td>\n",
       "      <td>Demburg</td>\n",
       "      <td>5</td>\n",
       "      <td>33</td>\n",
       "      <td>0</td>\n",
       "    </tr>\n",
       "    <tr>\n",
       "      <th>3</th>\n",
       "      <td>4</td>\n",
       "      <td>Eyberg</td>\n",
       "      <td>12</td>\n",
       "      <td>34</td>\n",
       "      <td>0</td>\n",
       "    </tr>\n",
       "    <tr>\n",
       "      <th>4</th>\n",
       "      <td>5</td>\n",
       "      <td>Zabar</td>\n",
       "      <td>9</td>\n",
       "      <td>30</td>\n",
       "      <td>0</td>\n",
       "    </tr>\n",
       "    <tr>\n",
       "      <th>...</th>\n",
       "      <td>...</td>\n",
       "      <td>...</td>\n",
       "      <td>...</td>\n",
       "      <td>...</td>\n",
       "      <td>...</td>\n",
       "    </tr>\n",
       "    <tr>\n",
       "      <th>58</th>\n",
       "      <td>59</td>\n",
       "      <td>Russo</td>\n",
       "      <td>11</td>\n",
       "      <td>10</td>\n",
       "      <td>1</td>\n",
       "    </tr>\n",
       "    <tr>\n",
       "      <th>59</th>\n",
       "      <td>60</td>\n",
       "      <td>Upsdell</td>\n",
       "      <td>13</td>\n",
       "      <td>3</td>\n",
       "      <td>1</td>\n",
       "    </tr>\n",
       "    <tr>\n",
       "      <th>60</th>\n",
       "      <td>61</td>\n",
       "      <td>Xao</td>\n",
       "      <td>13</td>\n",
       "      <td>3</td>\n",
       "      <td>1</td>\n",
       "    </tr>\n",
       "    <tr>\n",
       "      <th>61</th>\n",
       "      <td>62</td>\n",
       "      <td>Soule</td>\n",
       "      <td>12</td>\n",
       "      <td>16</td>\n",
       "      <td>1</td>\n",
       "    </tr>\n",
       "    <tr>\n",
       "      <th>62</th>\n",
       "      <td>63</td>\n",
       "      <td>Rantoul</td>\n",
       "      <td>13</td>\n",
       "      <td>16</td>\n",
       "      <td>1</td>\n",
       "    </tr>\n",
       "  </tbody>\n",
       "</table>\n",
       "<p>63 rows × 5 columns</p>\n",
       "</div>"
      ],
      "text/plain": [
       "    CustomerNo customer  PinotNoir  Champagne  cluster_id\n",
       "0            1  Ebeling          7         34           0\n",
       "1            2  England          8         34           0\n",
       "2            3  Demburg          5         33           0\n",
       "3            4   Eyberg         12         34           0\n",
       "4            5    Zabar          9         30           0\n",
       "..         ...      ...        ...        ...         ...\n",
       "58          59    Russo         11         10           1\n",
       "59          60  Upsdell         13          3           1\n",
       "60          61      Xao         13          3           1\n",
       "61          62    Soule         12         16           1\n",
       "62          63  Rantoul         13         16           1\n",
       "\n",
       "[63 rows x 5 columns]"
      ]
     },
     "execution_count": 38,
     "metadata": {},
     "output_type": "execute_result"
    }
   ],
   "source": [
    "raw_df"
   ]
  },
  {
   "cell_type": "code",
   "execution_count": 39,
   "id": "a39ab197-0d32-46fb-8fe9-0e33d3f8c870",
   "metadata": {},
   "outputs": [],
   "source": [
    "# write the results for making interpretations\n",
    "raw_df.to_excel('chateau_clustered_data.xlsx',index = False)"
   ]
  },
  {
   "cell_type": "code",
   "execution_count": null,
   "id": "2b4a845f-b691-40f8-9b48-8eb8eff369fb",
   "metadata": {},
   "outputs": [],
   "source": []
  },
  {
   "cell_type": "code",
   "execution_count": 40,
   "id": "25a250db-e697-4976-b103-b160c67145fd",
   "metadata": {},
   "outputs": [
    {
     "name": "stdout",
     "output_type": "stream",
     "text": [
      "   PinotNoir  Champagne\n",
      "0   7.047619  31.571429\n",
      "1  15.571429   8.785714\n"
     ]
    }
   ],
   "source": [
    "# ====================================\n",
    "# Profile Clusters\n",
    "# ====================================\n",
    "centroids = cluster_model.cluster_centers_\n",
    "column_names = selected_columns_df.columns.tolist()\n",
    "cluster_profile_df = pd.DataFrame(centroids,columns = column_names)\n",
    "print(cluster_profile_df)"
   ]
  },
  {
   "cell_type": "code",
   "execution_count": 41,
   "id": "ef315ee1-5b30-4f75-838f-a8f53b941bac",
   "metadata": {},
   "outputs": [],
   "source": [
    "# Write to an excel file for reading this\n",
    "cluster_profile_df.to_excel('cluster_profile_df.xlsx',index=True)"
   ]
  },
  {
   "cell_type": "code",
   "execution_count": null,
   "id": "e7903200-34d5-4c84-8f5d-7a9bad26f75f",
   "metadata": {},
   "outputs": [],
   "source": []
  },
  {
   "cell_type": "code",
   "execution_count": null,
   "id": "a75497fb-4e84-4a1e-9458-a511239e4da6",
   "metadata": {},
   "outputs": [],
   "source": [
    "### K = 3"
   ]
  },
  {
   "cell_type": "code",
   "execution_count": 42,
   "id": "c8265776-3076-4080-963d-223f987686d0",
   "metadata": {},
   "outputs": [
    {
     "name": "stdout",
     "output_type": "stream",
     "text": [
      "Model KMeans(n_clusters=3, random_state=10)\n"
     ]
    }
   ],
   "source": [
    "# ======================================\n",
    "# Create Clusters using the k-identified\n",
    "# ======================================\n",
    "k = 3\n",
    "from sklearn.cluster import KMeans\n",
    "cluster_model_2 = KMeans(n_clusters = k, random_state = 10).fit(selected_columns_df)\n",
    "print(\"Model\", cluster_model_2)"
   ]
  },
  {
   "cell_type": "code",
   "execution_count": 43,
   "id": "aae3c94a-126a-4483-a18b-59735132771e",
   "metadata": {},
   "outputs": [
    {
     "name": "stdout",
     "output_type": "stream",
     "text": [
      "Model [0 0 0 0 0 0 0 0 0 0 0 0 0 0 0 0 0 0 0 0 2 1 1 1 1 1 1 1 1 1 1 1 1 1 1 1 1\n",
      " 1 1 1 1 1 1 1 1 2 2 2 2 2 2 2 2 2 2 2 2 2 2 2 2 2 2]\n"
     ]
    }
   ],
   "source": [
    "print(\"Model\",cluster_model_2.labels_)"
   ]
  },
  {
   "cell_type": "code",
   "execution_count": 44,
   "id": "939370b4-495c-4642-a57d-6bd40dd0b043",
   "metadata": {},
   "outputs": [],
   "source": [
    "# ========================================\n",
    "# Add cluster details to the original data\n",
    "# ========================================\n",
    "raw_df['cluster_id_3'] = cluster_model_2.labels_"
   ]
  },
  {
   "cell_type": "code",
   "execution_count": 45,
   "id": "146e817b-149a-4140-bbf2-e09d0284d7e3",
   "metadata": {},
   "outputs": [
    {
     "data": {
      "text/html": [
       "<div>\n",
       "<style scoped>\n",
       "    .dataframe tbody tr th:only-of-type {\n",
       "        vertical-align: middle;\n",
       "    }\n",
       "\n",
       "    .dataframe tbody tr th {\n",
       "        vertical-align: top;\n",
       "    }\n",
       "\n",
       "    .dataframe thead th {\n",
       "        text-align: right;\n",
       "    }\n",
       "</style>\n",
       "<table border=\"1\" class=\"dataframe\">\n",
       "  <thead>\n",
       "    <tr style=\"text-align: right;\">\n",
       "      <th></th>\n",
       "      <th>CustomerNo</th>\n",
       "      <th>customer</th>\n",
       "      <th>PinotNoir</th>\n",
       "      <th>Champagne</th>\n",
       "      <th>cluster_id</th>\n",
       "      <th>cluster_id_3</th>\n",
       "    </tr>\n",
       "  </thead>\n",
       "  <tbody>\n",
       "    <tr>\n",
       "      <th>0</th>\n",
       "      <td>1</td>\n",
       "      <td>Ebeling</td>\n",
       "      <td>7</td>\n",
       "      <td>34</td>\n",
       "      <td>0</td>\n",
       "      <td>0</td>\n",
       "    </tr>\n",
       "    <tr>\n",
       "      <th>1</th>\n",
       "      <td>2</td>\n",
       "      <td>England</td>\n",
       "      <td>8</td>\n",
       "      <td>34</td>\n",
       "      <td>0</td>\n",
       "      <td>0</td>\n",
       "    </tr>\n",
       "    <tr>\n",
       "      <th>2</th>\n",
       "      <td>3</td>\n",
       "      <td>Demburg</td>\n",
       "      <td>5</td>\n",
       "      <td>33</td>\n",
       "      <td>0</td>\n",
       "      <td>0</td>\n",
       "    </tr>\n",
       "    <tr>\n",
       "      <th>3</th>\n",
       "      <td>4</td>\n",
       "      <td>Eyberg</td>\n",
       "      <td>12</td>\n",
       "      <td>34</td>\n",
       "      <td>0</td>\n",
       "      <td>0</td>\n",
       "    </tr>\n",
       "    <tr>\n",
       "      <th>4</th>\n",
       "      <td>5</td>\n",
       "      <td>Zabar</td>\n",
       "      <td>9</td>\n",
       "      <td>30</td>\n",
       "      <td>0</td>\n",
       "      <td>0</td>\n",
       "    </tr>\n",
       "    <tr>\n",
       "      <th>...</th>\n",
       "      <td>...</td>\n",
       "      <td>...</td>\n",
       "      <td>...</td>\n",
       "      <td>...</td>\n",
       "      <td>...</td>\n",
       "      <td>...</td>\n",
       "    </tr>\n",
       "    <tr>\n",
       "      <th>58</th>\n",
       "      <td>59</td>\n",
       "      <td>Russo</td>\n",
       "      <td>11</td>\n",
       "      <td>10</td>\n",
       "      <td>1</td>\n",
       "      <td>2</td>\n",
       "    </tr>\n",
       "    <tr>\n",
       "      <th>59</th>\n",
       "      <td>60</td>\n",
       "      <td>Upsdell</td>\n",
       "      <td>13</td>\n",
       "      <td>3</td>\n",
       "      <td>1</td>\n",
       "      <td>2</td>\n",
       "    </tr>\n",
       "    <tr>\n",
       "      <th>60</th>\n",
       "      <td>61</td>\n",
       "      <td>Xao</td>\n",
       "      <td>13</td>\n",
       "      <td>3</td>\n",
       "      <td>1</td>\n",
       "      <td>2</td>\n",
       "    </tr>\n",
       "    <tr>\n",
       "      <th>61</th>\n",
       "      <td>62</td>\n",
       "      <td>Soule</td>\n",
       "      <td>12</td>\n",
       "      <td>16</td>\n",
       "      <td>1</td>\n",
       "      <td>2</td>\n",
       "    </tr>\n",
       "    <tr>\n",
       "      <th>62</th>\n",
       "      <td>63</td>\n",
       "      <td>Rantoul</td>\n",
       "      <td>13</td>\n",
       "      <td>16</td>\n",
       "      <td>1</td>\n",
       "      <td>2</td>\n",
       "    </tr>\n",
       "  </tbody>\n",
       "</table>\n",
       "<p>63 rows × 6 columns</p>\n",
       "</div>"
      ],
      "text/plain": [
       "    CustomerNo customer  PinotNoir  Champagne  cluster_id  cluster_id_3\n",
       "0            1  Ebeling          7         34           0             0\n",
       "1            2  England          8         34           0             0\n",
       "2            3  Demburg          5         33           0             0\n",
       "3            4   Eyberg         12         34           0             0\n",
       "4            5    Zabar          9         30           0             0\n",
       "..         ...      ...        ...        ...         ...           ...\n",
       "58          59    Russo         11         10           1             2\n",
       "59          60  Upsdell         13          3           1             2\n",
       "60          61      Xao         13          3           1             2\n",
       "61          62    Soule         12         16           1             2\n",
       "62          63  Rantoul         13         16           1             2\n",
       "\n",
       "[63 rows x 6 columns]"
      ]
     },
     "execution_count": 45,
     "metadata": {},
     "output_type": "execute_result"
    }
   ],
   "source": [
    "raw_df"
   ]
  },
  {
   "cell_type": "code",
   "execution_count": 46,
   "id": "3f43e5cf-375f-4f21-a117-5fc597de96aa",
   "metadata": {},
   "outputs": [],
   "source": [
    "# write the results for making interpretations\n",
    "raw_df.to_excel('chateau_clustered_data_3.xlsx',index = False)"
   ]
  },
  {
   "cell_type": "code",
   "execution_count": 47,
   "id": "ca91e84c-ef73-4bc7-8a04-b690d9df0e7e",
   "metadata": {},
   "outputs": [
    {
     "name": "stdout",
     "output_type": "stream",
     "text": [
      "   PinotNoir  Champagne\n",
      "0   7.200000  32.250000\n",
      "1  22.083333   9.666667\n",
      "2   6.736842   8.157895\n"
     ]
    }
   ],
   "source": [
    "# ====================================\n",
    "# Profile Clusters\n",
    "# ====================================\n",
    "centroids = cluster_model_2.cluster_centers_\n",
    "column_names = selected_columns_df.columns.tolist()\n",
    "cluster_profile_df_2 = pd.DataFrame(centroids,columns = column_names)\n",
    "print(cluster_profile_df_2)"
   ]
  },
  {
   "cell_type": "code",
   "execution_count": 48,
   "id": "1727ff8f-218f-4090-ba15-0ad80dadd753",
   "metadata": {},
   "outputs": [],
   "source": [
    "# Write to an excel file for reading this\n",
    "cluster_profile_df_2.to_excel('cluster_profile_df_2.xlsx',index=True)"
   ]
  },
  {
   "cell_type": "code",
   "execution_count": null,
   "id": "fc6ddae8-6e7f-42d4-be99-18d83d93b4d3",
   "metadata": {},
   "outputs": [],
   "source": []
  }
 ],
 "metadata": {
  "kernelspec": {
   "display_name": "Python 3 (ipykernel)",
   "language": "python",
   "name": "python3"
  },
  "language_info": {
   "codemirror_mode": {
    "name": "ipython",
    "version": 3
   },
   "file_extension": ".py",
   "mimetype": "text/x-python",
   "name": "python",
   "nbconvert_exporter": "python",
   "pygments_lexer": "ipython3",
   "version": "3.11.7"
  }
 },
 "nbformat": 4,
 "nbformat_minor": 5
}
